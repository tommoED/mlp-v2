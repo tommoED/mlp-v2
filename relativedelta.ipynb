{
 "cells": [
  {
   "cell_type": "code",
   "execution_count": 8,
   "metadata": {},
   "outputs": [
    {
     "name": "stdout",
     "output_type": "stream",
     "text": [
      "2025-03-10 14:00:00\n",
      "0\n",
      "wed 2nd oct\n",
      "DTSTART:2025-10-08\n",
      "\n",
      "next wednesday\n",
      "current day:  2\n",
      "exp1 DTSTART:2025-03-19\n",
      "exp2 DTSTART:2025-03-19\n",
      "current day:  6\n",
      "DTSTART:2025-03-12\n",
      "current day:  4\n",
      "\n",
      "every wed 2pm except next week\n",
      "DTSTART:2025-03-12 14:00:00\n",
      "RRULE:FREQ=WEEKLY;BYDAY=WE;EXDATE:2025-03-12 14:00:00\n",
      "weekdays minus thursday\n",
      "DTSTART:2025-03-15 14:00:00\n",
      "next quarter mon: DTSTART:2025-04-07 14:00:00\n",
      "friday on the last week of the quarter: DTSTART:2025-03-28 14:00:00\n"
     ]
    },
    {
     "data": {
      "text/plain": [
       "datetime.datetime(2026, 6, 2, 14, 0)"
      ]
     },
     "execution_count": 8,
     "metadata": {},
     "output_type": "execute_result"
    }
   ],
   "source": [
    "\n",
    "import datetime\n",
    "from datetime import time, date\n",
    "from dateutil.relativedelta import relativedelta\n",
    "from dateutil.relativedelta import MO, TU, WE, TH, FR, SA, SU\n",
    "\n",
    "MONDAY = 0\n",
    "TUESDAY = 1\n",
    "WEDNESDAY = 2\n",
    "THURSDAY = 3\n",
    "FRIDAY = 4\n",
    "SATURDAY = 5\n",
    "SUNDAY = 6\n",
    "\n",
    "ref = datetime.datetime(2025, 3, 10, 14, 0)\n",
    "print(ref)\n",
    "print(ref.weekday())\n",
    "refdate = ref.date() # Random reference date\n",
    "reftime = ref.time()\n",
    "\n",
    "\n",
    "print(\"wed 2nd oct\")\n",
    "print(f\"DTSTART:{refdate + relativedelta(day=2, month=10, weekday=WE)}\")\n",
    "\n",
    "\n",
    "print(\"\\nnext wednesday\")\n",
    "ref = datetime.datetime(2025, 3, 12, 14, 0)\n",
    "print(\"current day: \", ref.weekday())\n",
    "refdate, reftime = ref.date(), ref.time()\n",
    "print(f\"exp1 DTSTART:{refdate + relativedelta(weekday=WE(+1 if ref.weekday() > WEDNESDAY else +2))}\")\n",
    "print(f\"exp2 DTSTART:{refdate + relativedelta(days = 1, weekday=MO) + relativedelta(weekday=WE)}\")\n",
    "ref = datetime.datetime(2025, 3, 9, 14, 0)\n",
    "print(\"current day: \", ref.weekday())\n",
    "refdate, reftime = ref.date(), ref.time()\n",
    "print(f\"DTSTART:{refdate + relativedelta(weekday=WE(+1 if ref.weekday() > WEDNESDAY else +2))}\")\n",
    "\n",
    "ref = datetime.datetime(2025, 3, 14, 14, 0)\n",
    "print(\"current day: \", ref.weekday())\n",
    "print(\"\\nevery wed 2pm except next week\")\n",
    "print(f\"DTSTART:{refdate + relativedelta(weekday=WE(1), hour=14)}\")\n",
    "print(f\"RRULE:FREQ=WEEKLY;BYDAY=WE;EXDATE:{refdate + relativedelta(weekday=WE(+1 if ref.weekday() > WEDNESDAY else +2), hour=14)}\")\n",
    "print(\"weekdays minus thursday\")\n",
    "print(f\"DTSTART:{ref + relativedelta(**(\n",
    "    {'days': 2} if ref.weekday() == WEDNESDAY else  # Thursday is weekday 3\n",
    "    {'days': 1} if ref.weekday() < SATURDAY else   # Friday is weekday 4\n",
    "    {'weekday': MO(1)}                     # Weekend case\n",
    "))}\")\n",
    "\n",
    "ref = datetime.datetime(2025, 3, 14, 14, 0)\n",
    "print(f\"next quarter mon: DTSTART:{ref.replace(day=1) + relativedelta(months=3 - (ref.month-1) % 3) + relativedelta(weekday=MO)}\")\n",
    "print(f\"friday on the last week of the quarter: DTSTART:{ref + relativedelta(months=3 - (ref.month-1) % 3 -1, day = 31, weekday=FR(-1))}\")\n",
    "\n",
    "\n",
    "def nextoneofset(ref, weekdays):\n",
    "    \"\"\"\n",
    "    Returns relativedelta to next occurrence of any weekday in the set\n",
    "    Example: nextoneofset(ref, [MO, TH, SA])\n",
    "    \"\"\"\n",
    "    current = ref.weekday()\n",
    "    # Get numerical weekday values (0=MO, 1=TU...6=SU)\n",
    "    targets = [wd.weekday for wd in weekdays]\n",
    "    \n",
    "    # Calculate days until next occurrence for each target weekday\n",
    "    deltas = [\n",
    "        (wd - current) if wd > current else (7 - current + wd)\n",
    "        for wd in targets\n",
    "    ]\n",
    "    \n",
    "    # Return delta for closest weekday\n",
    "    return relativedelta(days=min(deltas))\n",
    "\n",
    "\n",
    "{refdate + relativedelta(hour=1)}\n",
    "\n",
    "\n",
    "ref + relativedelta(years=1, day=1, month=1) + relativedelta(month=6, day=3)\n",
    "\n",
    "ref = datetime.datetime(2025, 6, 10, 14, 0)\n",
    "ref + relativedelta(years=1, month=6, day=2)\n"
   ]
  },
  {
   "cell_type": "code",
   "execution_count": 44,
   "metadata": {},
   "outputs": [
    {
     "data": {
      "text/plain": [
       "3"
      ]
     },
     "execution_count": 44,
     "metadata": {},
     "output_type": "execute_result"
    }
   ],
   "source": [
    "month =1\n",
    "\n",
    "month//3 +3\n"
   ]
  },
  {
   "cell_type": "code",
   "execution_count": 45,
   "metadata": {},
   "outputs": [
    {
     "data": {
      "text/plain": [
       "3"
      ]
     },
     "execution_count": 45,
     "metadata": {},
     "output_type": "execute_result"
    }
   ],
   "source": [
    "4-month % 3"
   ]
  }
 ],
 "metadata": {
  "kernelspec": {
   "display_name": "ml",
   "language": "python",
   "name": "python3"
  },
  "language_info": {
   "codemirror_mode": {
    "name": "ipython",
    "version": 3
   },
   "file_extension": ".py",
   "mimetype": "text/x-python",
   "name": "python",
   "nbconvert_exporter": "python",
   "pygments_lexer": "ipython3",
   "version": "3.13.2"
  }
 },
 "nbformat": 4,
 "nbformat_minor": 2
}
