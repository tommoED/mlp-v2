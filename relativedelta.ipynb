{
 "cells": [
  {
   "cell_type": "code",
   "execution_count": 64,
   "metadata": {},
   "outputs": [
    {
     "name": "stdout",
     "output_type": "stream",
     "text": [
      "2025-03-10 14:00:00\n",
      "0\n",
      "wed 2nd oct\n",
      "DTSTART:2025-10-08\n",
      "\n",
      "next wednesday\n",
      "current day:  0\n",
      "DTSTART:2025-03-19\n",
      "current day:  6\n",
      "DTSTART:2025-03-12\n",
      "current day:  0\n",
      "\n",
      "every wed 2pm except next week\n",
      "DTSTART:2025-03-12 14:00:00\n",
      "RRULE:FREQ=WEEKLY;BYDAY=WE;EXDATE:2025-03-19 14:00:00\n"
     ]
    },
    {
     "data": {
      "text/plain": [
       "{datetime.datetime(2025, 3, 9, 1, 0)}"
      ]
     },
     "execution_count": 64,
     "metadata": {},
     "output_type": "execute_result"
    }
   ],
   "source": [
    "\n",
    "import datetime\n",
    "from datetime import time, date\n",
    "from dateutil.relativedelta import relativedelta\n",
    "from dateutil.relativedelta import MO, TU, WE, TH, FR, SA, SU\n",
    "\n",
    "MONDAY = 0\n",
    "TUESDAY = 1\n",
    "WEDNESDAY = 2\n",
    "THURSDAY = 3\n",
    "FRIDAY = 4\n",
    "SATURDAY = 5\n",
    "SUNDAY = 6\n",
    "\n",
    "ref = datetime.datetime(2025, 3, 10, 14, 0)\n",
    "print(ref)\n",
    "print(ref.weekday())\n",
    "refdate = ref.date() # Random reference date\n",
    "reftime = ref.time()\n",
    "\n",
    "\n",
    "print(\"wed 2nd oct\")\n",
    "print(f\"DTSTART:{refdate + relativedelta(day=2, month=10, weekday=WE)}\")\n",
    "\n",
    "\n",
    "print(\"\\nnext wednesday\")\n",
    "ref = datetime.datetime(2025, 3, 10, 14, 0)\n",
    "print(\"current day: \", ref.weekday())\n",
    "refdate, reftime = ref.date(), ref.time()\n",
    "print(f\"DTSTART:{refdate + relativedelta(weekday=WE(+1 if ref.weekday() > WEDNESDAY else +2))}\")\n",
    "ref = datetime.datetime(2025, 3, 9, 14, 0)\n",
    "print(\"current day: \", ref.weekday())\n",
    "refdate, reftime = ref.date(), ref.time()\n",
    "print(f\"DTSTART:{refdate + relativedelta(weekday=WE(+1 if ref.weekday() > WEDNESDAY else +2))}\")\n",
    "\n",
    "ref = datetime.datetime(2025, 3, 10, 14, 0)\n",
    "print(\"current day: \", ref.weekday())\n",
    "print(\"\\nevery wed 2pm except next week\")\n",
    "print(f\"DTSTART:{refdate + relativedelta(weekday=WE(1), hour=14)}\")\n",
    "print(f\"RRULE:FREQ=WEEKLY;BYDAY=WE;EXDATE:{refdate + relativedelta(weekday=WE(+1 if ref.weekday() > WEDNESDAY else +2), hour=14)}\")\n",
    "\n",
    "\n",
    "\n",
    "{refdate + relativedelta(hour=1)}\n",
    "\n",
    "\n"
   ]
  }
 ],
 "metadata": {
  "kernelspec": {
   "display_name": "ml",
   "language": "python",
   "name": "python3"
  },
  "language_info": {
   "codemirror_mode": {
    "name": "ipython",
    "version": 3
   },
   "file_extension": ".py",
   "mimetype": "text/x-python",
   "name": "python",
   "nbconvert_exporter": "python",
   "pygments_lexer": "ipython3",
   "version": "3.13.2"
  }
 },
 "nbformat": 4,
 "nbformat_minor": 2
}
